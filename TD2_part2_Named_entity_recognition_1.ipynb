{
 "cells": [
  {
   "cell_type": "markdown",
   "id": "3b7c0b40",
   "metadata": {},
   "source": [
    "# TD2 part 2: Named entity recognition\n",
    "\n",
    "Dans ce TD, nous allons prendre un datasets où les noms de personnes sont taggés.<br>\n",
    "Nous allons transformer ces données en tenseurs X, y et attention_mask.<br>\n",
    "Nous allons créer un modèle RNN pour prédire si un mot est un nom de personne.<br>\n",
    "Nous allons ensuite créer la loop avec l'optimizer pour apprendre le modèle.<br>\n",
    "Du modèle appris (prédisant sur les tokens), nous allons postprocess les prédictions pour avoir les prédictions sur les noms.\n",
    "\n",
    "Un fois que la loop est créée et que le modèle apprend, nous allons changer la structure du modèle:\n",
    "- Changer learning rate. Comment se comporte le modèle\n",
    "- Ajouter des couches denses, ReLU, dropout, normalization\n",
    "- Changer le nombre de layers du RNN, LSTM.\n",
    "\n",
    "Lorsqu'on a un bon modèle de prédiction pour les noms de personnes, nous allons l'appliquer à notre projet fil rouge.\n",
    "Utilisez-le tel que. Quelle accuracy ?\n",
    "Ré-entrainez la (les) dernière(s) couche(s) du modèle sur notre jeu de données. A-t-il gagné en accuracy ?"
   ]
  },
  {
   "cell_type": "code",
   "execution_count": 1,
   "id": "86402ca3",
   "metadata": {
    "ExecuteTime": {
     "end_time": "2023-11-12T12:43:39.861399300Z",
     "start_time": "2023-11-12T12:43:32.787019200Z"
    }
   },
   "outputs": [],
   "source": [
    "# Import\n",
    "import matplotlib.pyplot as plt\n",
    "import numpy as np\n",
    "import torch\n",
    "import transformers"
   ]
  },
  {
   "cell_type": "markdown",
   "id": "17f552fb",
   "metadata": {},
   "source": [
    "## Data\n",
    "\n",
    "Télécharger le dataset MultiNERD FR [ici](https://github.com/Babelscape/multinerd)<br>\n",
    "Mettez les données dans le dossier data/raw du projet.\n"
   ]
  },
  {
   "cell_type": "code",
   "execution_count": 2,
   "id": "157bc913",
   "metadata": {
    "ExecuteTime": {
     "end_time": "2023-11-12T12:43:39.880245400Z",
     "start_time": "2023-11-12T12:43:39.866197100Z"
    }
   },
   "outputs": [],
   "source": [
    "def extract_multinerd_person_words(filename=\"../src/data/raw/train_fr.tsv\"):\n",
    "    with open(filename, encoding='utf-8') as f:\n",
    "        tagged_words = [line.strip().split(\"\\t\") for line in f]\n",
    "        \n",
    "        # Joining words until we meet a dot\n",
    "        # Word's label is 1 if 'PER' is in its tag\n",
    "        sentences = []\n",
    "        sentence_labels = []\n",
    "    \n",
    "        this_word = []\n",
    "        this_labels = []\n",
    "        for tagged_word in tagged_words:\n",
    "            if len(tagged_word) < 3:\n",
    "                # not a tagged word\n",
    "                continue\n",
    "            word = tagged_word[1]\n",
    "            tag = tagged_word[2]\n",
    "        \n",
    "            if word == '.':\n",
    "                sentences.append(\" \".join(this_word))\n",
    "                sentence_labels.append(this_labels)\n",
    "            \n",
    "                this_word = []\n",
    "                this_labels = []\n",
    "            else:\n",
    "                this_word.append(word)\n",
    "                this_labels.append(1 * tag.endswith(\"PER\"))\n",
    "\n",
    "    return sentences, sentence_labels\n"
   ]
  },
  {
   "cell_type": "code",
   "execution_count": 3,
   "id": "fcba104b",
   "metadata": {
    "ExecuteTime": {
     "end_time": "2023-11-12T12:43:46.164415200Z",
     "start_time": "2023-11-12T12:43:39.874220500Z"
    }
   },
   "outputs": [],
   "source": [
    "sentences, labels = extract_multinerd_person_words()"
   ]
  },
  {
   "cell_type": "markdown",
   "id": "ff9b09cc",
   "metadata": {},
   "source": [
    "## Tokenizer\n",
    "\n",
    "En utilisant le tokenizer d'HuggingFace \"camembert-base\":\n",
    "- Transformer les phrases en tokens\n",
    "- Obtenez des vecteur y qui ont le même nombre d'entrées qu'il y a de tokens dans la phrase\n",
    "- Ayez un tenseur \"attention_mask\" pour savoir sur quels tokens on cherche à predire le label\n",
    "- Transformez les tokens en token_ids (avec le tokenizer)\n",
    "Avec tout cela, vous pouvez former vos tenseurs X, Y et attention_mask"
   ]
  },
  {
   "cell_type": "code",
   "execution_count": 4,
   "id": "1c8ff1ee",
   "metadata": {
    "ExecuteTime": {
     "end_time": "2023-11-12T12:43:47.812276500Z",
     "start_time": "2023-11-12T12:43:46.165933Z"
    }
   },
   "outputs": [],
   "source": [
    "from transformers import AutoTokenizer\n",
    "\n",
    "tokenizer = AutoTokenizer.from_pretrained(\"camembert-base\")"
   ]
  },
  {
   "cell_type": "code",
   "execution_count": 5,
   "id": "04a3802c",
   "metadata": {
    "ExecuteTime": {
     "end_time": "2023-11-12T12:43:47.824296500Z",
     "start_time": "2023-11-12T12:43:47.815280400Z"
    }
   },
   "outputs": [],
   "source": [
    "def build_tokens_and_labels_and_attention_mask(tokenizer, sentence, labels):\n",
    "    words = sentence.split()\n",
    "    tokens = []\n",
    "    tokens_label = []\n",
    "    attention_mask = []\n",
    "    \n",
    "    for word, label in zip(words, labels):\n",
    "        this_tokens = tokenizer.tokenize(word)\n",
    "        tokens += this_tokens\n",
    "        \n",
    "        this_labels = [0] * len(this_tokens)\n",
    "        this_labels[0] = label        \n",
    "        tokens_label += this_labels\n",
    "        \n",
    "        this_attention_mask = [1] + [0] * (len(this_tokens) - 1)\n",
    "        attention_mask += this_attention_mask\n",
    "        \n",
    "        # Convertir les tokens en token_ids\n",
    "    token_ids = tokenizer.convert_tokens_to_ids(tokens)\n",
    "        \n",
    "    return tokens, token_ids, tokens_label, attention_mask"
   ]
  },
  {
   "cell_type": "code",
   "execution_count": 6,
   "id": "066d1710",
   "metadata": {
    "ExecuteTime": {
     "end_time": "2023-11-12T12:43:47.840331600Z",
     "start_time": "2023-11-12T12:43:47.820294800Z"
    }
   },
   "outputs": [],
   "source": [
    "tokens, token_ids,  label, padding_masks = build_tokens_and_labels_and_attention_mask(tokenizer, sentences[0], labels[0])"
   ]
  },
  {
   "cell_type": "code",
   "execution_count": 7,
   "id": "3376d78a2464dd3b",
   "metadata": {
    "ExecuteTime": {
     "end_time": "2023-11-12T12:43:47.852977900Z",
     "start_time": "2023-11-12T12:43:47.843419300Z"
    },
    "collapsed": false
   },
   "outputs": [],
   "source": [
    "from tqdm import tqdm\n",
    "\n",
    "def build_tensors(sentences, labels, tokenizer, max_len):\n",
    "    X = []\n",
    "    y = []\n",
    "    attention_masks = []\n",
    "\n",
    "    for sentence, label in tqdm(zip(sentences, labels), total=len(sentences), desc=\"Processing sentences\"):\n",
    "        tokens, token_ids, label_ids, attention_mask = build_tokens_and_labels_and_attention_mask(tokenizer, sentence, label)\n",
    "\n",
    "        # Padding\n",
    "        padding_length = max_len - len(token_ids)\n",
    "        token_ids.extend([0] * padding_length)\n",
    "        label_ids.extend([0] * padding_length)\n",
    "        attention_mask.extend([0] * padding_length)\n",
    "\n",
    "        X.append(token_ids)\n",
    "        y.append(label_ids)\n",
    "        attention_masks.append(attention_mask)\n",
    "\n",
    "    return torch.tensor(X, dtype=torch.long), torch.tensor(y, dtype=torch.long), torch.tensor(attention_masks, dtype=torch.long)"
   ]
  },
  {
   "cell_type": "code",
   "execution_count": 8,
   "id": "06a1580e",
   "metadata": {
    "ExecuteTime": {
     "end_time": "2023-11-12T12:46:27.395430600Z",
     "start_time": "2023-11-12T12:43:47.846938800Z"
    }
   },
   "outputs": [
    {
     "name": "stderr",
     "output_type": "stream",
     "text": [
      "Processing sentences: 100%|██████████| 140436/140436 [02:06<00:00, 1114.25it/s]\n"
     ]
    }
   ],
   "source": [
    "max_len = max([len(tokenizer.encode(sentence)) for sentence in sentences])\n",
    "X, y, attention_mask = build_tensors(sentences, labels, tokenizer, max_len)\n"
   ]
  },
  {
   "cell_type": "code",
   "execution_count": 8,
   "id": "8686c36492afe683",
   "metadata": {
    "ExecuteTime": {
     "end_time": "2023-11-12T12:46:27.408589200Z",
     "start_time": "2023-11-12T12:46:27.396460900Z"
    },
    "collapsed": false
   },
   "outputs": [],
   "source": []
  },
  {
   "cell_type": "markdown",
   "id": "feb94a39",
   "metadata": {},
   "source": [
    "## Model\n",
    "\n",
    "Contruisez un modèle RNN comme dans la partie 1. Pour l'instant, il prendra comme arguments:\n",
    "- Vocab size: le nombre de différents tokens du tokenizer (52 000 pour camembert-base)\n",
    "- Embedding dim: la dimension de l'embedding des tokens (par défaut 50)\n",
    "- hidden_dim: la dimension de l'état récurrent de votre RNN (par défaut 20)\n",
    "- tagset_size: la nombre de classes possibles pour les prédictions (ici 2)\n",
    "\n",
    "Dans le forward, votre modèle enchaînera les couches suivantes:\n",
    "- Un embedding\n",
    "- Un RNN\n",
    "- Un ReLU\n",
    "- Une couche linéaire\n",
    "- Un softmax pour que la somme des prédictions pour une entrée soit égale à 1 (la prédiction pour un élément et sa probabilité d'être dans chaque classe)"
   ]
  },
  {
   "cell_type": "code",
   "execution_count": 16,
   "id": "1cb1c1d5f698cebe",
   "metadata": {
    "ExecuteTime": {
     "end_time": "2023-11-12T15:15:53.563605600Z",
     "start_time": "2023-11-12T15:15:53.544054200Z"
    },
    "collapsed": false
   },
   "outputs": [],
   "source": [
    "import torch\n",
    "import torch.nn as nn\n",
    "import torch.nn.functional as F\n",
    "\n",
    "class RNNModel(nn.Module):\n",
    "    def __init__(self, vocab_size, embedding_dim, hidden_dim=20, tagset_size=2):\n",
    "        super(RNNModel, self).__init__()\n",
    "        self.hidden_dim = hidden_dim\n",
    "\n",
    "        # Couches du modèle\n",
    "        self.embedding = nn.Embedding(vocab_size, embedding_dim)\n",
    "        self.rnn = nn.RNN(embedding_dim, hidden_dim)\n",
    "        self.relu = nn.ReLU()\n",
    "        self.linear = nn.Linear(hidden_dim, tagset_size)\n",
    "        self.softmax = nn.LogSoftmax(dim=1)\n",
    "\n",
    "    def forward(self, sentence):\n",
    "        embeds = self.embedding(sentence)  # Transforme chaque token ID en un vecteur d'embedding\n",
    "        rnn_out, _ = self.rnn(embeds)      # Passe les embeddings au RNN\n",
    "        rnn_out = rnn_out.view(-1, self.hidden_dim)  # Redimensionne la sortie pour la couche linéaire\n",
    "        linear_out = self.linear(rnn_out)\n",
    "        softmax_out = self.softmax(linear_out)\n",
    "        return softmax_out\n",
    "    \n",
    "class RNNModelModified(nn.Module):\n",
    "    def __init__(self, vocab_size, embedding_dim, hidden_dim=20, tagset_size=2):\n",
    "        super(RNNModelModified, self).__init__()\n",
    "        self.hidden_dim = hidden_dim\n",
    "\n",
    "        # Couches du modèle\n",
    "        self.embedding = nn.Embedding(vocab_size, embedding_dim)\n",
    "        self.rnn = nn.RNN(embedding_dim, hidden_dim, num_layers=2)\n",
    "        self.dropout = nn.Dropout(p=0.5)  # Ajout d'une couche dropout\n",
    "        self.relu = nn.ReLU()\n",
    "        self.linear1 = nn.Linear(hidden_dim, hidden_dim)  # Ajout d'une couche linéaire supplémentaire\n",
    "        self.linear2 = nn.Linear(hidden_dim, tagset_size)\n",
    "        self.softmax = nn.LogSoftmax(dim=1)\n",
    "        \n",
    "    def forward(self, sentence):\n",
    "        embeds = self.embedding(sentence)\n",
    "        rnn_out, _ = self.rnn(embeds)\n",
    "        rnn_out = self.dropout(rnn_out)\n",
    "        rnn_out = rnn_out.view(-1, self.hidden_dim)\n",
    "        linear_out = self.relu(self.linear1(rnn_out))\n",
    "        linear_out = self.linear2(linear_out)\n",
    "        softmax_out = self.softmax(linear_out)\n",
    "        return softmax_out\n",
    "\n"
   ]
  },
  {
   "cell_type": "code",
   "execution_count": 17,
   "id": "86e661ea",
   "metadata": {
    "ExecuteTime": {
     "end_time": "2023-11-12T15:15:54.239815200Z",
     "start_time": "2023-11-12T15:15:54.215784800Z"
    }
   },
   "outputs": [],
   "source": [
    "# Paramètres du modèle\n",
    "vocab_size = 52000  # Nombre de tokens différents dans CamemBERT\n",
    "embedding_dim = 50  # Dimension de l'embedding\n",
    "hidden_dim = 20     # Dimension de l'état récurrent du RNN\n",
    "tagset_size = 2     # Nombre de classes possibles (ici 2, pour nom ou pas nom)\n",
    "\n",
    "# Création du modèle\n",
    "# model = RNNModel(vocab_size, embedding_dim, hidden_dim, tagset_size)\n",
    "model_modified = RNNModelModified(vocab_size, embedding_dim, hidden_dim, tagset_size)\n"
   ]
  },
  {
   "cell_type": "markdown",
   "id": "0d04004a",
   "metadata": {},
   "source": [
    "## Optimizer\n",
    "\n",
    "Je fournis ici une fonction prenant un modèle, des tenseurs X, y, attention_mask.\n",
    "Pour chaque batch:\n",
    "- La loop utilise le modèle pour prédire sur x_batch\n",
    "- Avec attention_mask, elle identifie sur quels tokens les prédictions compte\n",
    "- Elle regarde la cross entropy entre y\\[attention_ids\\] et yhat\\[attention_ids\\]\n",
    "- Elle output un dictionnaire avec le model et la loss au fur et à mesure des itérations\n",
    "\n",
    "Entraînez le modèle avec vos données. <br>\n",
    "Plottez la loss history.<br>\n",
    "Itérez sur le modèle pour l'améliorer:\n",
    "- Changer learning rate. Comment se comporte le modèle\n",
    "- Ajouter des couches denses, ReLU, dropout, normalization\n",
    "- Changer le nombre de layers du RNN, LSTM.\n"
   ]
  },
  {
   "cell_type": "code",
   "execution_count": 23,
   "id": "1f6653dfc407f4bb",
   "metadata": {
    "ExecuteTime": {
     "end_time": "2023-11-12T15:37:53.727585100Z",
     "start_time": "2023-11-12T15:37:52.119697300Z"
    },
    "collapsed": false
   },
   "outputs": [],
   "source": [
    "from sklearn.metrics import accuracy_score, precision_score, recall_score, f1_score\n",
    "\n",
    "def evaluate_model(model, loader, device):\n",
    "    model.eval()  # Met le modèle en mode évaluation\n",
    "    true_labels = []\n",
    "    predictions = []\n",
    "\n",
    "    with torch.no_grad():  # Pas de calcul de gradient nécessaire\n",
    "        for x_batch, y_batch, mask in loader:\n",
    "            x_batch, y_batch = x_batch.to(device), y_batch.to(device)\n",
    "            yhat = model(x_batch)\n",
    "            yhat = yhat.view(-1, 2)\n",
    "            ids = mask.view(-1) == 1\n",
    "            this_y = y_batch.view(-1)[ids]\n",
    "            yhat = yhat[ids]\n",
    "\n",
    "            predicted_labels = torch.max(yhat, 1)[1]  # Obtient l'indice de la classe la plus probable\n",
    "            true_labels.extend(this_y.cpu().numpy())\n",
    "            predictions.extend(predicted_labels.cpu().numpy())\n",
    "\n",
    "    accuracy = accuracy_score(true_labels, predictions)\n",
    "    precision = precision_score(true_labels, predictions, average='binary')\n",
    "    recall = recall_score(true_labels, predictions, average='binary')\n",
    "    f1 = f1_score(true_labels, predictions, average='binary')\n",
    "\n",
    "    return accuracy, precision, recall, f1\n"
   ]
  },
  {
   "cell_type": "code",
   "execution_count": 24,
   "id": "58b9833f",
   "metadata": {
    "ExecuteTime": {
     "end_time": "2023-11-12T15:37:54.003924100Z",
     "start_time": "2023-11-12T15:37:53.982529300Z"
    }
   },
   "outputs": [],
   "source": [
    "\n",
    "def train_model(model, X, y, attention_masks, n_epochs=100, lr=0.05, batch_size=128):\n",
    "    loss_function = torch.nn.CrossEntropyLoss()\n",
    "    loss_history = []\n",
    "    metrics_history = {\"accuracy\": [], \"precision\": [], \"recall\": [], \"f1\": []}\n",
    "\n",
    "    dataset = torch.utils.data.TensorDataset(X, y, attention_masks)\n",
    "    loader = torch.utils.data.DataLoader(dataset, batch_size=batch_size, shuffle=True)\n",
    "\n",
    "    optimizer = torch.optim.Adam(model.parameters(), lr=lr)\n",
    "\n",
    "    for epoch in range(n_epochs):\n",
    "        model.train()  # Met le modèle en mode d'entraînement\n",
    "        epoch_loss = 0.0\n",
    "        with tqdm(enumerate(loader), total=len(loader), desc=f\"Epoch {epoch + 1}/{n_epochs}\") as t:\n",
    "            for i, (x_batch, y_batch, mask) in t:\n",
    "                optimizer.zero_grad()\n",
    "            \n",
    "                yhat = model(x_batch)\n",
    "                yhat = yhat.view(-1, 2)\n",
    "\n",
    "                ids = mask.view(-1) == 1\n",
    "                this_y = y_batch.view(-1)[ids]\n",
    "                yhat = yhat[ids]\n",
    "\n",
    "                loss = loss_function(yhat, this_y)\n",
    "                loss.backward()\n",
    "                optimizer.step()\n",
    "                \n",
    "                epoch_loss += loss.item()\n",
    "                t.set_postfix(loss=epoch_loss / (i + 1))\n",
    "\n",
    "        loss_history.append(epoch_loss / len(loader))\n",
    "        \n",
    "        # Évaluation du modèle\n",
    "        accuracy, precision, recall, f1 = evaluate_model(model, loader, \"cuda\" if torch.cuda.is_available() else \"cpu\")\n",
    "        metrics_history[\"accuracy\"].append(accuracy)\n",
    "        metrics_history[\"precision\"].append(precision)\n",
    "        metrics_history[\"recall\"].append(recall)\n",
    "        metrics_history[\"f1\"].append(f1)\n",
    "\n",
    "        print(f\"Epoch {epoch + 1}, Average Loss: {loss_history[-1]}, Accuracy: {accuracy}, Precision: {precision}, Recall: {recall}, F1: {f1}\")\n",
    "    \n",
    "    return {\"model\": model, \"loss_history\": loss_history, \"metrics_history\": metrics_history}\n"
   ]
  },
  {
   "cell_type": "code",
   "execution_count": 27,
   "id": "3cf63f72",
   "metadata": {
    "ExecuteTime": {
     "end_time": "2023-11-12T15:51:42.606288500Z",
     "start_time": "2023-11-12T15:45:04.834636500Z"
    }
   },
   "outputs": [
    {
     "name": "stderr",
     "output_type": "stream",
     "text": [
      "Epoch 1/3: 100%|██████████| 1098/1098 [01:52<00:00,  9.76it/s, loss=0.067] \n"
     ]
    },
    {
     "name": "stdout",
     "output_type": "stream",
     "text": [
      "Epoch 1, Average Loss: 0.06695684330208813, Accuracy: 0.9745337004316887, Precision: 0.8079217173799511, Recall: 0.5865266294623556, F1: 0.6796488415470704\n"
     ]
    },
    {
     "name": "stderr",
     "output_type": "stream",
     "text": [
      "Epoch 2/3: 100%|██████████| 1098/1098 [01:29<00:00, 12.26it/s, loss=0.0689]\n"
     ]
    },
    {
     "name": "stdout",
     "output_type": "stream",
     "text": [
      "Epoch 2, Average Loss: 0.06894891769820333, Accuracy: 0.9751347744609098, Precision: 0.7869343398730765, Recall: 0.6309722564037754, F1: 0.7003758038436834\n"
     ]
    },
    {
     "name": "stderr",
     "output_type": "stream",
     "text": [
      "Epoch 3/3: 100%|██████████| 1098/1098 [01:42<00:00, 10.74it/s, loss=0.0691]\n"
     ]
    },
    {
     "name": "stdout",
     "output_type": "stream",
     "text": [
      "Epoch 3, Average Loss: 0.06912931309290271, Accuracy: 0.9749120523308162, Precision: 0.7867952671448682, Recall: 0.6245335603727526, F1: 0.6963367287532863\n"
     ]
    },
    {
     "data": {
      "image/png": "[encoded data removed]",
      "text/plain": [
       "<Figure size 1200x600 with 5 Axes>"
      ]
     },
     "metadata": {},
     "output_type": "display_data"
    }
   ],
   "source": [
    "# Entraînement du modèle\n",
    "results = train_model(model_modified, X, y, attention_mask, n_epochs=3, lr=0.01, batch_size=128)\n",
    "\n",
    "# Récupération de l'historique de la perte et des métriques\n",
    "loss_history = results[\"loss_history\"]\n",
    "metrics_history = results[\"metrics_history\"]\n",
    "\n",
    "# Visualisation de la perte\n",
    "plt.figure(figsize=(12, 6))\n",
    "plt.subplot(2, 3, 1)\n",
    "plt.plot(loss_history, label='Loss')\n",
    "plt.title(\"Loss History\")\n",
    "plt.xlabel(\"Epoch\")\n",
    "plt.ylabel(\"Loss\")\n",
    "plt.legend()\n",
    "\n",
    "# Visualisation de l'accuracy\n",
    "plt.subplot(2, 3, 2)\n",
    "plt.plot(metrics_history[\"accuracy\"], label='Accuracy', color='orange')\n",
    "plt.title(\"Accuracy History\")\n",
    "plt.xlabel(\"Epoch\")\n",
    "plt.ylabel(\"Accuracy\")\n",
    "plt.legend()\n",
    "\n",
    "# Visualisation de la precision\n",
    "plt.subplot(2, 3, 3)\n",
    "plt.plot(metrics_history[\"precision\"], label='Precision', color='green')\n",
    "plt.title(\"Precision History\")\n",
    "plt.xlabel(\"Epoch\")\n",
    "plt.ylabel(\"Precision\")\n",
    "plt.legend()\n",
    "\n",
    "# Visualisation du recall\n",
    "plt.subplot(2, 3, 4)\n",
    "plt.plot(metrics_history[\"recall\"], label='Recall', color='red')\n",
    "plt.title(\"Recall History\")\n",
    "plt.xlabel(\"Epoch\")\n",
    "plt.ylabel(\"Recall\")\n",
    "plt.legend()\n",
    "\n",
    "# Visualisation du F1 Score\n",
    "plt.subplot(2, 3, 5)\n",
    "plt.plot(metrics_history[\"f1\"], label='F1 Score', color='purple')\n",
    "plt.title(\"F1 Score History\")\n",
    "plt.xlabel(\"Epoch\")\n",
    "plt.ylabel(\"F1 Score\")\n",
    "plt.legend()\n",
    "\n",
    "plt.tight_layout()\n",
    "plt.show()"
   ]
  },
  {
   "cell_type": "markdown",
   "id": "2fe5e96abd14cce5",
   "metadata": {
    "collapsed": false
   },
   "source": [
    "## GPU\n",
    "\n",
    "Make model train on GPU"
   ]
  },
  {
   "cell_type": "code",
   "execution_count": 28,
   "id": "761dca68ed63b8e4",
   "metadata": {
    "ExecuteTime": {
     "end_time": "2023-11-12T15:54:00.355754400Z",
     "start_time": "2023-11-12T15:54:00.351763500Z"
    },
    "collapsed": false
   },
   "outputs": [
    {
     "name": "stdout",
     "output_type": "stream",
     "text": [
      "CUDA disponible: False\n"
     ]
    }
   ],
   "source": [
    "# Vérifie si CUDA (GPU support) est disponible\n",
    "is_cuda_available = torch.cuda.is_available()\n",
    "print(\"CUDA disponible:\", is_cuda_available)\n",
    "\n",
    "# malheuresement CUDA n'arrive pas dédecter mon GPU sans doute un problème avec pytorch"
   ]
  },
  {
   "cell_type": "code",
   "execution_count": null,
   "id": "b77a4f5b3266819",
   "metadata": {
    "collapsed": false
   },
   "outputs": [],
   "source": []
  },
  {
   "cell_type": "markdown",
   "id": "f21a6933",
   "metadata": {},
   "source": [
    "## Postprocessing\n",
    "\n",
    "Créer une fonction prenant les prédictions du modèle (au niveau token) et sort les prédictions au niveau mot.<br>\n",
    "Par exemple, admettons que, pour un mot, la prédiction du 1er token est la seule qu'on considère.<br>\n",
    "si la phrase est \"Bonjour John\", avec les tokens \\[\"bon\", \"jour\", \"Jo\", \"hn\"\\] avec les predictions \\[0.12, 0.65, 0.88, 0.45\\]<br>\n",
    "Je veux récupérer les prédictions \"bonjour\": 0.12, \"John\": 0.88"
   ]
  },
  {
   "cell_type": "code",
   "execution_count": 31,
   "id": "7ce26d3fa5fa52b9",
   "metadata": {
    "ExecuteTime": {
     "end_time": "2023-11-12T16:29:24.639710700Z",
     "start_time": "2023-11-12T16:29:24.540076700Z"
    },
    "collapsed": false
   },
   "outputs": [],
   "source": [
    "def load_test_data(filepath):\n",
    "    with open(filepath, 'r', encoding='utf-8') as file:\n",
    "        sentences = file.read().splitlines()\n",
    "    return sentences\n",
    "\n",
    "test_sentences = load_test_data(\"../src/data/raw/test_fr.tsv\")\n"
   ]
  },
  {
   "cell_type": "code",
   "execution_count": 32,
   "id": "2141335348414480",
   "metadata": {
    "ExecuteTime": {
     "end_time": "2023-11-12T16:31:51.444934Z",
     "start_time": "2023-11-12T16:30:10.807755600Z"
    },
    "collapsed": false
   },
   "outputs": [],
   "source": [
    "from transformers import AutoTokenizer\n",
    "\n",
    "tokenizer = AutoTokenizer.from_pretrained(\"camembert-base\")\n",
    "\n",
    "def tokenize_sentences(sentences, tokenizer, max_len):\n",
    "    token_ids = []\n",
    "    attention_masks = []\n",
    "\n",
    "    for sentence in sentences:\n",
    "        encoding = tokenizer.encode_plus(\n",
    "            sentence,\n",
    "            add_special_tokens=True,\n",
    "            max_length=max_len,\n",
    "            padding='max_length',\n",
    "            return_attention_mask=True,\n",
    "            return_tensors='pt',\n",
    "            truncation=True\n",
    "        )\n",
    "        token_ids.append(encoding['input_ids'])\n",
    "        attention_masks.append(encoding['attention_mask'])\n",
    "\n",
    "    token_ids = torch.cat(token_ids, dim=0)\n",
    "    attention_masks = torch.cat(attention_masks, dim=0)\n",
    "\n",
    "    return token_ids, attention_masks\n"
   ]
  },
  {
   "cell_type": "code",
   "execution_count": null,
   "id": "baa4882531b80220",
   "metadata": {
    "collapsed": false
   },
   "outputs": [],
   "source": [
    "max_len = 350  # Par exemple, la longueur maximale des phrases\n",
    "token_ids, attention_masks = tokenize_sentences(test_sentences, tokenizer, max_len)"
   ]
  },
  {
   "cell_type": "code",
   "execution_count": null,
   "id": "81a5fdcf2e929aa4",
   "metadata": {
    "ExecuteTime": {
     "start_time": "2023-11-12T16:31:51.807946400Z"
    },
    "collapsed": false
   },
   "outputs": [],
   "source": [
    "from torch.utils.data import DataLoader, TensorDataset\n",
    "\n",
    "test_dataset = TensorDataset(token_ids, attention_masks)\n",
    "test_loader = DataLoader(test_dataset, batch_size=128)\n"
   ]
  },
  {
   "cell_type": "code",
   "execution_count": null,
   "id": "fc7a3a2a5d657c07",
   "metadata": {
    "ExecuteTime": {
     "start_time": "2023-11-12T16:31:51.809954900Z"
    },
    "collapsed": false
   },
   "outputs": [],
   "source": [
    "def get_model_predictions(model, loader, device):\n",
    "    model.eval()  # Mode évaluation\n",
    "    all_predictions = []\n",
    "\n",
    "    with torch.no_grad():\n",
    "        for batch in loader:\n",
    "            x_batch, _ = [b.to(device) for b in batch]\n",
    "\n",
    "            yhat = model(x_batch)\n",
    "            yhat = yhat.view(-1, 2)\n",
    "            preds = torch.max(yhat, 1)[1]\n",
    "\n",
    "            all_predictions.extend(preds.cpu().numpy())\n",
    "\n",
    "    return all_predictions"
   ]
  },
  {
   "cell_type": "code",
   "execution_count": null,
   "id": "a35475c6d41bcc15",
   "metadata": {
    "ExecuteTime": {
     "start_time": "2023-11-12T16:31:51.811454700Z"
    },
    "collapsed": false
   },
   "outputs": [],
   "source": [
    "device = \"cuda\" if torch.cuda.is_available() else \"cpu\"\n",
    "model_predictions = get_model_predictions(results[\"model\"].to(device), test_loader, device)"
   ]
  },
  {
   "cell_type": "code",
   "execution_count": null,
   "id": "d4a54590d3d99241",
   "metadata": {
    "ExecuteTime": {
     "start_time": "2023-11-12T16:31:51.811954300Z"
    },
    "collapsed": false
   },
   "outputs": [],
   "source": [
    "def postprocess_predictions(token_ids, predictions, tokenizer):\n",
    "    word_predictions = {}\n",
    "    current_word = None\n",
    "    current_prediction = None\n",
    "\n",
    "    for token_id, prediction in zip(token_ids, predictions):\n",
    "        token = tokenizer.decode([token_id])\n",
    "\n",
    "        if token.startswith(\"▁\"):  # Un nouveau mot commence\n",
    "            if current_word is not None:\n",
    "                word_predictions[current_word] = current_prediction\n",
    "            \n",
    "            current_word = token[1:]  # Enlève le \"▁\" pour obtenir le mot\n",
    "            current_prediction = prediction\n",
    "        else:\n",
    "            current_word += token  # Continue le mot actuel\n",
    "\n",
    "    # Ajoute la prédiction du dernier mot\n",
    "    if current_word is not None:\n",
    "        word_predictions[current_word] = current_prediction\n",
    "\n",
    "    return word_predictions\n"
   ]
  },
  {
   "cell_type": "code",
   "execution_count": null,
   "id": "be61dd2fde22db8a",
   "metadata": {
    "ExecuteTime": {
     "start_time": "2023-11-12T16:31:51.813962Z"
    },
    "collapsed": false
   },
   "outputs": [],
   "source": [
    "word_predictions = postprocess_predictions(token_ids.numpy().flatten(), model_predictions, tokenizer)\n"
   ]
  },
  {
   "cell_type": "code",
   "execution_count": null,
   "id": "e1a24fa0c11ba1eb",
   "metadata": {
    "collapsed": false
   },
   "outputs": [],
   "source": []
  }
 ],
 "metadata": {
  "kernelspec": {
   "display_name": "Python 3 (ipykernel)",
   "language": "python",
   "name": "python3"
  },
  "language_info": {
   "codemirror_mode": {
    "name": "ipython",
    "version": 3
   },
   "file_extension": ".py",
   "mimetype": "text/x-python",
   "name": "python",
   "nbconvert_exporter": "python",
   "pygments_lexer": "ipython3",
   "version": "3.10.12"
  }
 },
 "nbformat": 4,
 "nbformat_minor": 5
}
